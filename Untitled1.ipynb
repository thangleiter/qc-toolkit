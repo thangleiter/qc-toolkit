{
 "cells": [
  {
   "cell_type": "code",
   "execution_count": 1,
   "metadata": {
    "autoscroll": "json-false",
    "collapsed": false,
    "ein.tags": [
     "worksheet-0"
    ]
   },
   "outputs": [],
   "source": [
    "import numpy as np\n",
    "import qctoolkit.pulses as pls\n",
    "import qctoolkit as qct\n",
    "from qctoolkit.pulses.instructions import EXECInstruction as EXEC\n"
   ]
  },
  {
   "cell_type": "code",
   "execution_count": 2,
   "metadata": {
    "autoscroll": "json-false",
    "collapsed": false,
    "ein.tags": [
     "worksheet-0"
    ]
   },
   "outputs": [
    {
     "name": "stdout",
     "output_type": "stream",
     "text": [
      "<qctoolkit.pulses.sequence_pulse_template.SequencePulseTemplate object at 0xacaa642c>\n"
     ]
    }
   ],
   "source": [
    "measure = pls.TablePulseTemplate(measurement=True, identifier='measurement')\n",
    "measure.add_entry(2,0)\n",
    "\n",
    "pulse = pls.TablePulseTemplate(identifier='pulse')\n",
    "pulse.add_entry('length', 100)\n",
    "\n",
    "seq = pls.SequencePulseTemplate([(measure, dict()),\n",
    "                                 (pulse, {'length':'length - 10'})],\n",
    "                                ['length'])\n",
    "\n",
    "print(seq)"
   ]
  },
  {
   "cell_type": "code",
   "execution_count": 3,
   "metadata": {
    "autoscroll": "json-false",
    "collapsed": false,
    "ein.tags": [
     "worksheet-0"
    ]
   },
   "outputs": [],
   "source": [
    "sequencer = pls.sequencing.Sequencer()\n",
    "\n",
    "parameters = np.linspace(50,100, 5)\n",
    "for p in parameters:\n",
    "    sequencer.push(seq, parameters={'length':p})\n",
    "\n",
    "program = sequencer.build()"
   ]
  },
  {
   "cell_type": "code",
   "execution_count": 6,
   "metadata": {
    "autoscroll": "json-false",
    "collapsed": false,
    "ein.tags": [
     "worksheet-0"
    ]
   },
   "outputs": [],
   "source": [
    "def uniquify(inputlist):\n",
    "    keys = list(set(inputlist))\n",
    "    replacements = {k: v for k,v in zip(keys, range(len(keys)))}\n",
    "    result = []\n",
    "    for el in inputlist:\n",
    "        result.append(replacements[el])\n",
    "    return result\n",
    "\n",
    "def cumsum(it):\n",
    "    total = 0\n",
    "    yield total\n",
    "    for x in it:\n",
    "        total += x\n",
    "        yield total"
   ]
  },
  {
   "cell_type": "code",
   "execution_count": 8,
   "metadata": {
    "autoscroll": "json-false",
    "collapsed": false,
    "ein.tags": [
     "worksheet-0"
    ]
   },
   "outputs": [
    {
     "name": "stdout",
     "output_type": "stream",
     "text": [
      "(4, 4, [(0, 2)], 2)\n",
      "(1, 5, [], 90.0)\n",
      "(3, 2, [(0, 2)], 2)\n",
      "(5, 0, [], 77.5)\n",
      "(2, 3, [(0, 2)], 2)\n",
      "(0, 1, [], 65.0)\n",
      "(6, 6, [(0, 2)], 2)\n",
      "(7, 7, [], 52.5)\n",
      "(8, 8, [(0, 2)], 2)\n",
      "(9, 9, [], 40.0)\n",
      "[2, 92.0, 94.0, 171.5, 173.5, 238.5, 240.5, 293.0, 295.0, 335.0]\n"
     ]
    }
   ],
   "source": [
    "blocks = list(filter(lambda x: type(x) == EXEC, program))\n",
    "wfs = [block.waveform for block in blocks]\n",
    "wfids = uniquify(list(map(id, wfs)))\n",
    "durations = [wf.duration for wf in wfs]\n",
    "windows = [wf.measurement_windows for wf in wfs]\n",
    "windowids = uniquify(list(map(id, windows)))\n",
    "\n",
    "for tup in zip(wfids, windowids, windows, durations):\n",
    "    print(tup)\n",
    "\n",
    "cumulative = cumsum(durations)\n",
    "print(list(cumulative))\n",
    "# for block in program :\n",
    "    # if type(block) == pls.instructions.EXECInstruction:\n",
    "    #     wf = block.waveform\n",
    "    #     duration = wf.duration\n",
    "    #     windows = wf.measurement_windows\n",
    "    #     # print(wf, duration, windows)\n",
    "    #     print(id(wf), id(windows))\n"
   ]
  },
  {
   "cell_type": "code",
   "execution_count": null,
   "metadata": {
    "autoscroll": "json-false",
    "collapsed": false,
    "ein.tags": [
     "worksheet-0"
    ]
   },
   "outputs": [],
   "source": [
    "blocks\n"
   ]
  },
  {
   "cell_type": "code",
   "execution_count": null,
   "metadata": {
    "autoscroll": "json-false",
    "collapsed": false,
    "ein.tags": [
     "worksheet-0"
    ]
   },
   "outputs": [],
   "source": [
    "gkgl"
   ]
  }
 ],
 "metadata": {},
 "nbformat": 4,
 "nbformat_minor": 0
}
